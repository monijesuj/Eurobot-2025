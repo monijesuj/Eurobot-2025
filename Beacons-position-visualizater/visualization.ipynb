{
 "cells": [
  {
   "cell_type": "markdown",
   "id": "c3178aa0",
   "metadata": {},
   "source": [
    "CG"
   ]
  },
  {
   "cell_type": "code",
   "execution_count": null,
   "id": "6e8ad271",
   "metadata": {},
   "outputs": [],
   "source": [
    "import matplotlib.pyplot as plt\n",
    "import numpy as np\n",
    "\n",
    "# Define the coordinates\n",
    "blue = np.array([[-0.094, -0.094, 3.094],\n",
    "                 [ 0.052,  1.948, 1.0]])\n",
    "yellow = np.array([[3.094, 3.094, -0.094],\n",
    "                   [0.052, 1.948, 1.0]])\n",
    "\n",
    "# Plot blue beacons\n",
    "plt.figure(figsize=(6, 4))\n",
    "plt.scatter(blue[0, :], blue[1, :], color='blue', label='Blue Beacons', s=100)\n",
    "for i, pos in enumerate(blue.T):\n",
    "    plt.text(pos[0], pos[1]+0.05, f'B{i+1}', color='blue', fontsize=12)\n",
    "\n",
    "plt.xlim(-0.2, 3.2)\n",
    "plt.ylim(0, 2.1)\n",
    "plt.xlabel('X (meters)')\n",
    "plt.ylabel('Y (meters)')\n",
    "plt.title('Blue Beacon Positions')\n",
    "plt.legend()\n",
    "plt.grid(True)\n",
    "plt.show()\n",
    "\n",
    "# Plot yellow beacons\n",
    "plt.figure(figsize=(6, 4))\n",
    "plt.scatter(yellow[0, :], yellow[1, :], color='goldenrod', label='Yellow Beacons', s=100)\n",
    "for i, pos in enumerate(yellow.T):\n",
    "    plt.text(pos[0], pos[1]+0.05, f'Y{i+1}', color='goldenrod', fontsize=12)\n",
    "\n",
    "plt.xlim(-0.2, 3.2)\n",
    "plt.ylim(0, 2.1)\n",
    "plt.xlabel('X (meters)')\n",
    "plt.ylabel('Y (meters)')\n",
    "plt.title('Yellow Beacon Positions')\n",
    "plt.legend()\n",
    "plt.grid(True)\n",
    "plt.show()\n",
    "\n",
    "# Plot combined six beacons\n",
    "plt.figure(figsize=(6, 4))\n",
    "# Plot blue beacons in blue\n",
    "plt.scatter(blue[0, :], blue[1, :], color='blue', label='Blue Beacons', s=100)\n",
    "for i, pos in enumerate(blue.T):\n",
    "    plt.text(pos[0]-0.1, pos[1]+0.05, f'B{i+1}', color='blue', fontsize=12)\n",
    "# Plot yellow beacons in yellow\n",
    "plt.scatter(yellow[0, :], yellow[1, :], color='goldenrod', label='Yellow Beacons', s=100)\n",
    "for i, pos in enumerate(yellow.T):\n",
    "    plt.text(pos[0]+0.1, pos[1]+0.05, f'Y{i+1}', color='goldenrod', fontsize=12)\n",
    "\n",
    "plt.xlim(-0.2, 3.2)\n",
    "plt.ylim(0, 2.1)\n",
    "plt.xlabel('X (meters)')\n",
    "plt.ylabel('Y (meters)')\n",
    "plt.title('Combined Beacon Positions')\n",
    "plt.legend()\n",
    "plt.grid(True)\n",
    "plt.show()\n"
   ]
  },
  {
   "cell_type": "markdown",
   "id": "256584f9",
   "metadata": {},
   "source": [
    "DS"
   ]
  },
  {
   "cell_type": "code",
   "execution_count": 1,
   "id": "d60148e5",
   "metadata": {},
   "outputs": [
    {
     "data": {
      "image/png": "[encoded data removed]",
      "text/plain": [
       "<Figure size 640x480 with 1 Axes>"
      ]
     },
     "metadata": {},
     "output_type": "display_data"
    }
   ],
   "source": [
    "import matplotlib.pyplot as plt\n",
    "\n",
    "# Blue Beacons\n",
    "blue_x = [-0.094, -0.094, 3.094]\n",
    "blue_y = [0.052, 1.948, 1.0]\n",
    "\n",
    "# Yellow Beacons\n",
    "yellow_x = [3.094, 3.094, -0.094]\n",
    "yellow_y = [0.052, 1.948, 1.0]\n",
    "\n",
    "# Plot field (0,0) to (3,2)\n",
    "plt.figure()\n",
    "plt.plot([0,3,3,0,0], [0,0,2,2,0], 'k-')  # Field boundary\n",
    "\n",
    "# Plot beacons\n",
    "plt.scatter(blue_x, blue_y, c='blue', label='Blue')\n",
    "plt.scatter(yellow_x, yellow_y, c='orange', label='Yellow')\n",
    "plt.legend()\n",
    "plt.xlabel('x (m)'), plt.ylabel('y (m)')\n",
    "plt.grid(True)\n",
    "plt.show()"
   ]
  }
 ],
 "metadata": {
  "kernelspec": {
   "display_name": "base",
   "language": "python",
   "name": "python3"
  },
  "language_info": {
   "codemirror_mode": {
    "name": "ipython",
    "version": 3
   },
   "file_extension": ".py",
   "mimetype": "text/x-python",
   "name": "python",
   "nbconvert_exporter": "python",
   "pygments_lexer": "ipython3",
   "version": "3.11.5"
  }
 },
 "nbformat": 4,
 "nbformat_minor": 5
}
